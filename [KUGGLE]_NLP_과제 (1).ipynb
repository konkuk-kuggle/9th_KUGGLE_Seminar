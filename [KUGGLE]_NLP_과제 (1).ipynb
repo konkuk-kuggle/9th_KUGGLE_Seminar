{
  "cells": [
    {
      "cell_type": "markdown",
      "metadata": {
        "id": "f57TfABUH5VQ"
      },
      "source": [
        "# [KUGGLE] NLP 자연어 처리 과제"
      ]
    },
    {
      "cell_type": "markdown",
      "metadata": {
        "id": "Ohni1ZWtH5VT"
      },
      "source": [
        "########## ⭐️ (과제) 문장을 넣어주세요 ############\n",
        "\n",
        "이 부분에 자연어 처리로 분석해보고 싶은 문장을 넣어 코드를 돌려주세요!\n",
        "\n",
        "결과값과 함께 깃허브에 풀리퀘로 제출해주세요."
      ]
    },
    {
      "cell_type": "code",
      "execution_count": 1,
      "metadata": {
        "colab": {
          "base_uri": "https://localhost:8080/"
        },
        "id": "nz0kzXJ-H5VW",
        "outputId": "f4d893a7-9e4e-4925-e3e2-f2acb46c13ed"
      },
      "outputs": [
        {
          "output_type": "stream",
          "name": "stdout",
          "text": [
            "Collecting konlpy\n",
            "  Downloading konlpy-0.6.0-py2.py3-none-any.whl (19.4 MB)\n",
            "\u001b[2K     \u001b[90m━━━━━━━━━━━━━━━━━━━━━━━━━━━━━━━━━━━━━━━━\u001b[0m \u001b[32m19.4/19.4 MB\u001b[0m \u001b[31m22.0 MB/s\u001b[0m eta \u001b[36m0:00:00\u001b[0m\n",
            "\u001b[?25hCollecting JPype1>=0.7.0 (from konlpy)\n",
            "  Downloading JPype1-1.5.0-cp310-cp310-manylinux_2_17_x86_64.manylinux2014_x86_64.whl (488 kB)\n",
            "\u001b[2K     \u001b[90m━━━━━━━━━━━━━━━━━━━━━━━━━━━━━━━━━━━━━━━━\u001b[0m \u001b[32m488.6/488.6 kB\u001b[0m \u001b[31m32.2 MB/s\u001b[0m eta \u001b[36m0:00:00\u001b[0m\n",
            "\u001b[?25hRequirement already satisfied: lxml>=4.1.0 in /usr/local/lib/python3.10/dist-packages (from konlpy) (4.9.4)\n",
            "Requirement already satisfied: numpy>=1.6 in /usr/local/lib/python3.10/dist-packages (from konlpy) (1.25.2)\n",
            "Requirement already satisfied: packaging in /usr/local/lib/python3.10/dist-packages (from JPype1>=0.7.0->konlpy) (24.0)\n",
            "Installing collected packages: JPype1, konlpy\n",
            "Successfully installed JPype1-1.5.0 konlpy-0.6.0\n"
          ]
        }
      ],
      "source": [
        "!pip install konlpy"
      ]
    },
    {
      "cell_type": "markdown",
      "metadata": {
        "id": "NMzSwB1lH5VT"
      },
      "source": [
        "# 1. 텍스트 토큰화 실습"
      ]
    },
    {
      "cell_type": "code",
      "execution_count": 6,
      "metadata": {
        "colab": {
          "base_uri": "https://localhost:8080/"
        },
        "id": "AMjl2TeYH5VT",
        "outputId": "7fa191bf-22d5-432c-988b-df190058bb78"
      },
      "outputs": [
        {
          "output_type": "stream",
          "name": "stdout",
          "text": [
            "Counter({'안녕하세요.': 1, '쿠글': 1, '10기': 1, '장윤영입니다.': 1, '파이썬으로': 1, '텍스트를': 1, '토큰화해보세요.': 1, '좋은': 1, '하루': 1, '보내세요!': 1})\n"
          ]
        }
      ],
      "source": [
        "from collections import Counter\n",
        "\n",
        "def tokenize_text(text):\n",
        "    # 텍스트를 공백 기준으로 토큰화\n",
        "    tokens = text.split()\n",
        "    # 각 토큰의 빈도수 계산\n",
        "    token_counts = Counter(tokens)\n",
        "    return token_counts\n",
        "\n",
        "# 예제 문장\n",
        "example_text = \"안녕하세요. 쿠글 10기 장윤영입니다. 파이썬으로 텍스트를 토큰화해보세요. 좋은 하루 보내세요!\"\n",
        "print(tokenize_text(example_text))\n"
      ]
    },
    {
      "cell_type": "markdown",
      "metadata": {
        "id": "38bRzAUJLXPM"
      },
      "source": [
        "#단어집합(vocabulary) 생성"
      ]
    },
    {
      "cell_type": "code",
      "execution_count": 7,
      "metadata": {
        "colab": {
          "base_uri": "https://localhost:8080/"
        },
        "id": "TSH2S5r_I7gA",
        "outputId": "46f9c19a-111e-415b-de3a-f6bd3ae51c2b"
      },
      "outputs": [
        {
          "output_type": "stream",
          "name": "stdout",
          "text": [
            "단어집합: ['10기', '보내세요!', '안녕하세요.', '장윤영입니다.', '좋은', '쿠글', '텍스트를', '토큰화해보세요.', '파이썬으로', '하루']\n"
          ]
        }
      ],
      "source": [
        "def create_vocabulary(text):\n",
        "    # 문장을 공백을 기준으로 분리하여 단어 집합 생성\n",
        "    words = text.split()\n",
        "    # 중복 제거를 위해 집합으로 변환 후 다시 리스트로 변환\n",
        "    vocabulary = list(set(words))\n",
        "    # 단어집합을 알파벳순으로 정렬\n",
        "    vocabulary.sort()\n",
        "    return vocabulary\n",
        "\n",
        "# 예제 문장\n",
        "example_text = \"안녕하세요. 쿠글 10기 장윤영입니다. 파이썬으로 텍스트를 토큰화해보세요. 좋은 하루 보내세요!\"\n",
        "\n",
        "# 단어집합 생성\n",
        "vocabulary = create_vocabulary(example_text)\n",
        "\n",
        "# 단어집합 출력\n",
        "print(\"단어집합:\", vocabulary)\n"
      ]
    },
    {
      "cell_type": "markdown",
      "metadata": {
        "id": "EXtXWzUHLi5y"
      },
      "source": [
        "#정수인코딩 & 원-핫인코딩"
      ]
    },
    {
      "cell_type": "code",
      "execution_count": 8,
      "metadata": {
        "colab": {
          "base_uri": "https://localhost:8080/"
        },
        "id": "A4NOdp7OK7so",
        "outputId": "f941eff7-77f2-4169-9f49-13b03a5d5bf7"
      },
      "outputs": [
        {
          "output_type": "stream",
          "name": "stdout",
          "text": [
            "\"쿠글\"의 원핫 인코딩 벡터: [0. 0. 1. 0. 0. 0. 0. 0. 0. 0. 0.]\n"
          ]
        }
      ],
      "source": [
        "import numpy as np\n",
        "\n",
        "def onehot_encoding(word, vocabulary):\n",
        "    # 단어의 인덱스 찾기\n",
        "    index = vocabulary.index(word)\n",
        "    # 원핫 인코딩 수행\n",
        "    onehot = np.zeros(len(vocabulary))\n",
        "    onehot[index] = 1\n",
        "    return onehot\n",
        "\n",
        "# 단어집합과 예제 단어\n",
        "vocabulary = ['안녕', '하세요', '쿠글', '10기', '장윤영입니다', '파이썬', '텍스트', '토큰화해보세요', '좋은', '하루', '보내세요']\n",
        "example_word = '쿠글'\n",
        "\n",
        "# 원핫 인코딩 수행\n",
        "onehot_vector = onehot_encoding(example_word, vocabulary)\n",
        "print(f'\"{example_word}\"의 원핫 인코딩 벡터:', onehot_vector)"
      ]
    },
    {
      "cell_type": "markdown",
      "metadata": {
        "id": "5KvG4l3aLyBw"
      },
      "source": [
        "#Bag-of-Words"
      ]
    },
    {
      "cell_type": "code",
      "execution_count": 9,
      "metadata": {
        "colab": {
          "base_uri": "https://localhost:8080/"
        },
        "id": "rh4BxwCfL1_r",
        "outputId": "9bba8122-a985-4d1d-fc9c-70b0dfff5202"
      },
      "outputs": [
        {
          "output_type": "stream",
          "name": "stdout",
          "text": [
            "단어집합 (vocabulary):\n",
            "안녕하세요: 1\n",
            ".: 3\n",
            "쿠글: 1\n",
            "10: 1\n",
            "기: 1\n",
            "장윤: 1\n",
            "영: 1\n",
            "입니다: 1\n",
            "파이썬: 1\n",
            "으로: 1\n",
            "텍스트: 1\n",
            "를: 1\n",
            "토큰: 1\n",
            "화: 1\n",
            "해보세요: 1\n",
            "좋은: 1\n",
            "하루: 1\n",
            "보내세요: 1\n",
            "!: 1\n",
            "\n",
            "Bag of Words (BoW) 벡터:\n",
            "[1, 3, 1, 1, 1, 1, 1, 1, 3, 1, 1, 1, 1, 1, 1, 1, 3, 1, 1, 1, 1]\n"
          ]
        }
      ],
      "source": [
        "from konlpy.tag import Okt\n",
        "from collections import Counter\n",
        "\n",
        "def bow_representation(text):\n",
        "    # 형태소 분석기 초기화\n",
        "    okt = Okt()\n",
        "    # 텍스트를 형태소 단위로 분리\n",
        "    tokens = okt.morphs(text)\n",
        "    # 빈도수 계산\n",
        "    vocab = Counter(tokens)\n",
        "    # BoW 표현 생성\n",
        "    bow = [vocab[token] for token in tokens]\n",
        "    return vocab, bow\n",
        "\n",
        "# 예제 문장\n",
        "example_text = \"안녕하세요. 쿠글 10기 장윤영입니다. 파이썬으로 텍스트를 토큰화해보세요. 좋은 하루 보내세요!\"\n",
        "\n",
        "# 단어집합과 BoW 표현 생성\n",
        "vocab, bow = bow_representation(example_text)\n",
        "\n",
        "# 결과 출력\n",
        "print(\"단어집합 (vocabulary):\")\n",
        "for word, frequency in vocab.items():\n",
        "    print(word + \":\", frequency)\n",
        "\n",
        "print(\"\\nBag of Words (BoW) 벡터:\")\n",
        "print(bow)\n"
      ]
    },
    {
      "cell_type": "markdown",
      "metadata": {
        "id": "CauCPmhJH5VV"
      },
      "source": [
        "# 2. 형태소 분석 실습"
      ]
    },
    {
      "cell_type": "code",
      "execution_count": 10,
      "metadata": {
        "colab": {
          "base_uri": "https://localhost:8080/"
        },
        "id": "WGu2uwtOH5VW",
        "outputId": "f0661b12-38a5-4963-dbfb-0d9fb89a49b4"
      },
      "outputs": [
        {
          "output_type": "stream",
          "name": "stdout",
          "text": [
            "[('쿠글', 'Noun'), ('10', 'Number'), ('기', 'Noun'), ('화이팅', 'Noun')]\n"
          ]
        }
      ],
      "source": [
        "from konlpy.tag import Okt\n",
        "\n",
        "def analyze_morphology(text):\n",
        "    okt = Okt()\n",
        "    # 형태소 분석과 품사 태깅\n",
        "    morphs = okt.pos(text)\n",
        "    return morphs\n",
        "\n",
        "# (과제) 문장 넣기\n",
        "example_text = \" 쿠글 10기 화이팅 \"\n",
        "print(analyze_morphology(example_text))\n"
      ]
    },
    {
      "cell_type": "markdown",
      "metadata": {
        "id": "-R82FFj4H5VW"
      },
      "source": [
        "# 3.N-gram 모델 생성"
      ]
    },
    {
      "cell_type": "code",
      "execution_count": 11,
      "metadata": {
        "colab": {
          "base_uri": "https://localhost:8080/"
        },
        "id": "LmjHIovvH5VW",
        "outputId": "c8a2ba25-1670-40de-b1e0-eaaf36864e7d"
      },
      "outputs": [
        {
          "output_type": "stream",
          "name": "stdout",
          "text": [
            "Requirement already satisfied: nltk in /usr/local/lib/python3.10/dist-packages (3.8.1)\n",
            "Requirement already satisfied: click in /usr/local/lib/python3.10/dist-packages (from nltk) (8.1.7)\n",
            "Requirement already satisfied: joblib in /usr/local/lib/python3.10/dist-packages (from nltk) (1.4.2)\n",
            "Requirement already satisfied: regex>=2021.8.3 in /usr/local/lib/python3.10/dist-packages (from nltk) (2023.12.25)\n",
            "Requirement already satisfied: tqdm in /usr/local/lib/python3.10/dist-packages (from nltk) (4.66.4)\n"
          ]
        }
      ],
      "source": [
        "!pip install nltk"
      ]
    },
    {
      "cell_type": "code",
      "execution_count": 12,
      "metadata": {
        "colab": {
          "base_uri": "https://localhost:8080/"
        },
        "id": "aySPHuyfH5VX",
        "outputId": "f32fb1cc-a3f5-479d-bdfb-1ee6f41f8b0c"
      },
      "outputs": [
        {
          "output_type": "stream",
          "name": "stdout",
          "text": [
            "Counter({('휴학', '평생'): 1, ('평생', '하고싶다'): 1})\n"
          ]
        }
      ],
      "source": [
        "from nltk.util import ngrams\n",
        "from collections import defaultdict, Counter\n",
        "\n",
        "def generate_ngrams(text, N=2):\n",
        "    tokens = text.split()\n",
        "    n_grams = list(ngrams(tokens, N))\n",
        "    n_gram_freq = Counter(n_grams)\n",
        "    return n_gram_freq\n",
        "\n",
        "# (과제) 문장 넣기\n",
        "example_text = \" 휴학 평생 하고싶다 \"\n",
        "print(generate_ngrams(example_text, 2))\n"
      ]
    },
    {
      "cell_type": "markdown",
      "metadata": {
        "id": "6kOvIVWOvzGc"
      },
      "source": [
        "# Word Embedding(GloVe)"
      ]
    },
    {
      "cell_type": "code",
      "execution_count": 13,
      "metadata": {
        "colab": {
          "base_uri": "https://localhost:8080/"
        },
        "id": "dsB9DHYPuEp9",
        "outputId": "305d8f9b-f9a8-4897-ae13-00bce809e072"
      },
      "outputs": [
        {
          "output_type": "stream",
          "name": "stdout",
          "text": [
            "Collecting glove-python3\n",
            "  Downloading glove_python3-0.1.0.tar.gz (326 kB)\n",
            "\u001b[2K     \u001b[90m━━━━━━━━━━━━━━━━━━━━━━━━━━━━━━━━━━━━━━━━\u001b[0m \u001b[32m327.0/327.0 kB\u001b[0m \u001b[31m3.7 MB/s\u001b[0m eta \u001b[36m0:00:00\u001b[0m\n",
            "\u001b[?25h  Preparing metadata (setup.py) ... \u001b[?25l\u001b[?25hdone\n",
            "Requirement already satisfied: numpy in /usr/local/lib/python3.10/dist-packages (from glove-python3) (1.25.2)\n",
            "Requirement already satisfied: scipy in /usr/local/lib/python3.10/dist-packages (from glove-python3) (1.11.4)\n",
            "Building wheels for collected packages: glove-python3\n",
            "  Building wheel for glove-python3 (setup.py) ... \u001b[?25l\u001b[?25hdone\n",
            "  Created wheel for glove-python3: filename=glove_python3-0.1.0-cp310-cp310-linux_x86_64.whl size=1065512 sha256=580b75050c1de2374f32f83efd5b78636ec0617490b46c707dabb7b0af0ce62e\n",
            "  Stored in directory: /root/.cache/pip/wheels/fe/2f/79/34314d44a0907e90e323c8c182ec23f126eb460829e02d98cf\n",
            "Successfully built glove-python3\n",
            "Installing collected packages: glove-python3\n",
            "Successfully installed glove-python3-0.1.0\n"
          ]
        },
        {
          "output_type": "stream",
          "name": "stderr",
          "text": [
            "[nltk_data] Downloading package punkt to /root/nltk_data...\n",
            "[nltk_data]   Unzipping tokenizers/punkt.zip.\n"
          ]
        }
      ],
      "source": [
        "!pip install glove-python3  #glove 라이브러리\n",
        "from glove import Corpus, Glove\n",
        "import nltk\n",
        "nltk.download('punkt')\n",
        "from nltk.tokenize import word_tokenize\n"
      ]
    },
    {
      "cell_type": "code",
      "execution_count": 14,
      "metadata": {
        "colab": {
          "base_uri": "https://localhost:8080/"
        },
        "id": "Yey_lknTq1xK",
        "outputId": "fd2188f2-2d05-4a3a-88c2-85a18f4842eb"
      },
      "outputs": [
        {
          "output_type": "stream",
          "name": "stdout",
          "text": [
            "Performing 30 training epochs with 4 threads\n",
            "Epoch 0\n",
            "Epoch 1\n",
            "Epoch 2\n",
            "Epoch 3\n",
            "Epoch 4\n",
            "Epoch 5\n",
            "Epoch 6\n",
            "Epoch 7\n",
            "Epoch 8\n",
            "Epoch 9\n",
            "Epoch 10\n",
            "Epoch 11\n",
            "Epoch 12\n",
            "Epoch 13\n",
            "Epoch 14\n",
            "Epoch 15\n",
            "Epoch 16\n",
            "Epoch 17\n",
            "Epoch 18\n",
            "Epoch 19\n",
            "Epoch 20\n",
            "Epoch 21\n",
            "Epoch 22\n",
            "Epoch 23\n",
            "Epoch 24\n",
            "Epoch 25\n",
            "Epoch 26\n",
            "Epoch 27\n",
            "Epoch 28\n",
            "Epoch 29\n"
          ]
        }
      ],
      "source": [
        "# 샘플 텍스트 데이터\n",
        "texts = [\n",
        "    \"GloVe is an unsupervised learning algorithm for obtaining vector representations for words.\",\n",
        "    \"Training is performed on aggregated global word-word co-occurrence statistics from a corpus.\",\n",
        "    \"The result is a set of word vectors that are interesting linear substructures of the word vector space.\",\n",
        "]\n",
        "\n",
        "# 텍스트를 토큰화합니다.\n",
        "tokenized_texts = [word_tokenize(text.lower()) for text in texts]\n",
        "\n",
        "# Corpus 객체를 생성합니다.\n",
        "corpus = Corpus()\n",
        "\n",
        "# Corpus를 학습 데이터로 사용하여 GloVe 모델을 훈련합니다.\n",
        "corpus.fit(tokenized_texts, window=5)\n",
        "\n",
        "# GloVe 모델을 생성합니다.\n",
        "glove = Glove(no_components=100, learning_rate=0.05)\n",
        "\n",
        "# 사전 훈련된 Corpus를 사용하여 모델을 학습시킵니다.\n",
        "glove.fit(corpus.matrix, epochs=30, no_threads=4, verbose=True)\n",
        "glove.add_dictionary(corpus.dictionary)"
      ]
    },
    {
      "cell_type": "code",
      "execution_count": 15,
      "metadata": {
        "colab": {
          "base_uri": "https://localhost:8080/"
        },
        "id": "7WZxOLS7q13a",
        "outputId": "0a4bf1fd-8c09-48fc-ee98-20d88cd4b295"
      },
      "outputs": [
        {
          "output_type": "stream",
          "name": "stdout",
          "text": [
            "Vector for 'glove': [ 2.22104002e-04  3.54008080e-03 -2.01453329e-03  2.17267411e-04\n",
            "  2.92882856e-03 -4.99714361e-03  3.72602451e-03  3.82430063e-03\n",
            " -1.00432090e-03 -5.06250252e-04 -7.57039033e-04 -1.62402279e-03\n",
            " -1.51141563e-03 -2.99730381e-03  3.34311349e-03  2.90179074e-03\n",
            "  3.00253138e-03  1.98409894e-03 -4.79703355e-03 -3.91332117e-03\n",
            "  3.40411723e-03  3.49101420e-03 -3.61705266e-03  5.62343664e-04\n",
            " -9.16892215e-04  2.18804573e-03  2.51406761e-03 -2.24673010e-03\n",
            "  3.10729304e-04 -3.38292219e-03 -3.26697560e-04 -2.00729848e-04\n",
            "  2.92006254e-03  2.21226732e-05 -2.16338328e-03  2.86046095e-03\n",
            "  1.11050873e-03  3.93955459e-03  4.22170171e-03  2.98432492e-03\n",
            "  2.97248522e-03  4.23843091e-03  4.69946237e-03  1.80367077e-03\n",
            "  2.88205736e-03 -2.61418586e-03  2.18773155e-03  2.88573027e-03\n",
            " -2.11529134e-03 -3.53055162e-03  1.67830598e-03 -4.69759613e-03\n",
            " -2.10159231e-03  2.75902047e-03 -1.57074611e-03  3.27120125e-03\n",
            " -5.45050400e-04 -3.79789070e-03 -2.80234464e-03 -2.22567749e-03\n",
            "  3.02640902e-04 -4.20426290e-03  4.73108699e-03 -3.15380780e-03\n",
            "  2.31995462e-03 -5.56704358e-04  8.96616303e-04  2.15857872e-03\n",
            " -2.90787144e-03 -2.94410684e-03 -4.50493377e-03 -3.49543842e-03\n",
            "  3.61586865e-03  4.80527527e-03  3.91421437e-03 -2.15048282e-03\n",
            " -4.50001922e-03  1.55313075e-03 -1.96620337e-03 -4.70652802e-04\n",
            "  1.38506145e-03  4.25432474e-03  1.31653810e-03  3.31800959e-03\n",
            " -4.89782784e-03 -1.60020831e-03 -4.76827374e-03  3.18235387e-03\n",
            "  4.46325247e-03  1.12439011e-03 -2.93790574e-03  4.26696952e-03\n",
            "  4.71147098e-03 -1.80379287e-03 -4.58148885e-03 -2.35340758e-03\n",
            "  3.27161488e-03 -2.61993797e-03 -2.22574180e-03 -1.39377163e-03]\n"
          ]
        }
      ],
      "source": [
        "#GloVe로 워드 임베딩한 벡터\n",
        "word = 'glove' #원하는 단어를 입력 ex) 'glove' -> '  '\n",
        "vector = glove.word_vectors[glove.dictionary[word]]\n",
        "print(f\"Vector for '{word}': {vector}\")"
      ]
    },
    {
      "cell_type": "markdown",
      "metadata": {
        "id": "svJUhPYSyYfo"
      },
      "source": [
        "glove.most_similar()는 입력 단어의 가장 유사한 단어들의 리스트를 리턴합니다"
      ]
    },
    {
      "cell_type": "code",
      "execution_count": 16,
      "metadata": {
        "colab": {
          "base_uri": "https://localhost:8080/"
        },
        "id": "Dg2iNH4xq195",
        "outputId": "bd08c0e8-f5d2-45cc-e302-5333f52b07e7"
      },
      "outputs": [
        {
          "output_type": "stream",
          "name": "stdout",
          "text": [
            "[('are', 0.18521116521379238), ('is', 0.15441259653416206), ('.', 0.13601614690410255), ('set', 0.13288811238574155)]\n"
          ]
        }
      ],
      "source": [
        "print(glove.most_similar('glove'))"
      ]
    },
    {
      "cell_type": "code",
      "execution_count": 17,
      "metadata": {
        "colab": {
          "base_uri": "https://localhost:8080/"
        },
        "id": "lG8lsSLlq2C7",
        "outputId": "4d7dec96-850b-4a02-900a-d01a55d025d0"
      },
      "outputs": [
        {
          "output_type": "stream",
          "name": "stdout",
          "text": [
            "[('vector', 0.25847209275122257), ('global', 0.1411760276468419), ('from', 0.08414317762685553), ('the', 0.0671116837258068)]\n"
          ]
        }
      ],
      "source": [
        "print(glove.most_similar('word'))"
      ]
    },
    {
      "cell_type": "markdown",
      "metadata": {
        "id": "N9wKXKw-H5VX"
      },
      "source": [
        "# 4.트랜스포머를 사용한 감정 분석"
      ]
    },
    {
      "cell_type": "code",
      "execution_count": 18,
      "metadata": {
        "colab": {
          "base_uri": "https://localhost:8080/"
        },
        "id": "w3FY2KECH5VX",
        "outputId": "65b21f3f-b79a-4830-8ddd-21e8c8c505c4"
      },
      "outputs": [
        {
          "output_type": "stream",
          "name": "stdout",
          "text": [
            "Requirement already satisfied: transformers in /usr/local/lib/python3.10/dist-packages (4.40.2)\n",
            "Requirement already satisfied: filelock in /usr/local/lib/python3.10/dist-packages (from transformers) (3.14.0)\n",
            "Requirement already satisfied: huggingface-hub<1.0,>=0.19.3 in /usr/local/lib/python3.10/dist-packages (from transformers) (0.20.3)\n",
            "Requirement already satisfied: numpy>=1.17 in /usr/local/lib/python3.10/dist-packages (from transformers) (1.25.2)\n",
            "Requirement already satisfied: packaging>=20.0 in /usr/local/lib/python3.10/dist-packages (from transformers) (24.0)\n",
            "Requirement already satisfied: pyyaml>=5.1 in /usr/local/lib/python3.10/dist-packages (from transformers) (6.0.1)\n",
            "Requirement already satisfied: regex!=2019.12.17 in /usr/local/lib/python3.10/dist-packages (from transformers) (2023.12.25)\n",
            "Requirement already satisfied: requests in /usr/local/lib/python3.10/dist-packages (from transformers) (2.31.0)\n",
            "Requirement already satisfied: tokenizers<0.20,>=0.19 in /usr/local/lib/python3.10/dist-packages (from transformers) (0.19.1)\n",
            "Requirement already satisfied: safetensors>=0.4.1 in /usr/local/lib/python3.10/dist-packages (from transformers) (0.4.3)\n",
            "Requirement already satisfied: tqdm>=4.27 in /usr/local/lib/python3.10/dist-packages (from transformers) (4.66.4)\n",
            "Requirement already satisfied: fsspec>=2023.5.0 in /usr/local/lib/python3.10/dist-packages (from huggingface-hub<1.0,>=0.19.3->transformers) (2023.6.0)\n",
            "Requirement already satisfied: typing-extensions>=3.7.4.3 in /usr/local/lib/python3.10/dist-packages (from huggingface-hub<1.0,>=0.19.3->transformers) (4.11.0)\n",
            "Requirement already satisfied: charset-normalizer<4,>=2 in /usr/local/lib/python3.10/dist-packages (from requests->transformers) (3.3.2)\n",
            "Requirement already satisfied: idna<4,>=2.5 in /usr/local/lib/python3.10/dist-packages (from requests->transformers) (3.7)\n",
            "Requirement already satisfied: urllib3<3,>=1.21.1 in /usr/local/lib/python3.10/dist-packages (from requests->transformers) (2.0.7)\n",
            "Requirement already satisfied: certifi>=2017.4.17 in /usr/local/lib/python3.10/dist-packages (from requests->transformers) (2024.2.2)\n"
          ]
        }
      ],
      "source": [
        "!pip install transformers"
      ]
    },
    {
      "cell_type": "code",
      "execution_count": 19,
      "metadata": {
        "colab": {
          "base_uri": "https://localhost:8080/",
          "height": 328,
          "referenced_widgets": [
            "b17a783d9ee5481291ad5fbcaab90c81",
            "bc089876c655491f932dd5eca0282348",
            "8b9fad6e7eb34d9e9a97d7f31ae4a442",
            "f0bfc6f39dfb43e6a228506c4de6644e",
            "b225bcfb5a0246228133dff1aff0da40",
            "5d2a463dc3d149ed8a078b9e95f02a79",
            "5410aa1d621b48daa854614c8aa5274f",
            "1493c7a051f64e07ae9ae92f672a958c",
            "ec2dde43cac44f7c8652de1e083a1666",
            "4a71fc0a17994cc6a40f84db57d29dd2",
            "5a0194c34f3f4b4b895e2b142cb35ab0",
            "c1ddd9582f6549d686f124fbdaf4aff5",
            "cbd4179e6a9c44c484ef53158f2f4f85",
            "34030b5bddb14d1da8124c3bd6421a5b",
            "52ec3b14ba5b4e96aff8153a69a32ccf",
            "ee41f6152988422bacbe55163b797e2b",
            "3661619222c24aea9284ee563694fcf6",
            "404227ae6b854493b164b9810acba4cf",
            "fc6d4dbe0cf44d6b98e2cfa725bf02bb",
            "8480994f3af747f4a5e4942c3aa6ce73",
            "cbf78149ba6f48009886f93e89500e33",
            "a905357ba58d40f4ac4aa2b553b01e14",
            "f1b0ccd76d114f8696cb29b3d662fb67",
            "08d61a0778324422a8300990e7533099",
            "adcfa92d440f4dcfbf479711ed4c72bb",
            "56871c72500e49e0b374cfae26a05fc6",
            "3cd9142fd4e146ceaec2071ce2813aff",
            "5b7da532de014aff8daae20266680b98",
            "e5e91b659f8d4eb799e676083b9c4206",
            "d71fc2436e3d4f7c9684dbfcf71be50c",
            "b9abbbf5f7f3416b8e97057b14c1269d",
            "d98752f0e068426cbabaafafa9ad8911",
            "2194277eb458485383dc097ffdda6f10",
            "745194ce6e744fd9a8cd81ae20bf84af",
            "f0e0aa89380249e4a0ac8a85f8e00dec",
            "661e6559b8424f10b782a706c82fbba2",
            "246ee7c43e0f49b6a2ee5dc6d6cd4aaf",
            "16fba099e9d54efa8c96014e04334729",
            "4554e05c5c0c4aa989b731ef5dfba5a2",
            "b7548b2bc0d643c5b62800678a422c11",
            "d4878fc7c4e042c9a74a52d0277d6454",
            "ee68203fdf7b4213b263a6e05884d9c3",
            "ccce8ca1d4154f6a817104d3ab6fc646",
            "e6a5fc7d3a0d4044a902cf0d86e3235e"
          ]
        },
        "id": "t9GfFJLUH5VY",
        "outputId": "5423de88-84ff-44be-9c42-417177090ab2"
      },
      "outputs": [
        {
          "output_type": "stream",
          "name": "stderr",
          "text": [
            "No model was supplied, defaulted to distilbert/distilbert-base-uncased-finetuned-sst-2-english and revision af0f99b (https://huggingface.co/distilbert/distilbert-base-uncased-finetuned-sst-2-english).\n",
            "Using a pipeline without specifying a model name and revision in production is not recommended.\n",
            "/usr/local/lib/python3.10/dist-packages/huggingface_hub/utils/_token.py:88: UserWarning: \n",
            "The secret `HF_TOKEN` does not exist in your Colab secrets.\n",
            "To authenticate with the Hugging Face Hub, create a token in your settings tab (https://huggingface.co/settings/tokens), set it as secret in your Google Colab and restart your session.\n",
            "You will be able to reuse this secret in all of your notebooks.\n",
            "Please note that authentication is recommended but still optional to access public models or datasets.\n",
            "  warnings.warn(\n"
          ]
        },
        {
          "output_type": "display_data",
          "data": {
            "text/plain": [
              "config.json:   0%|          | 0.00/629 [00:00<?, ?B/s]"
            ],
            "application/vnd.jupyter.widget-view+json": {
              "version_major": 2,
              "version_minor": 0,
              "model_id": "b17a783d9ee5481291ad5fbcaab90c81"
            }
          },
          "metadata": {}
        },
        {
          "output_type": "display_data",
          "data": {
            "text/plain": [
              "model.safetensors:   0%|          | 0.00/268M [00:00<?, ?B/s]"
            ],
            "application/vnd.jupyter.widget-view+json": {
              "version_major": 2,
              "version_minor": 0,
              "model_id": "c1ddd9582f6549d686f124fbdaf4aff5"
            }
          },
          "metadata": {}
        },
        {
          "output_type": "display_data",
          "data": {
            "text/plain": [
              "tokenizer_config.json:   0%|          | 0.00/48.0 [00:00<?, ?B/s]"
            ],
            "application/vnd.jupyter.widget-view+json": {
              "version_major": 2,
              "version_minor": 0,
              "model_id": "f1b0ccd76d114f8696cb29b3d662fb67"
            }
          },
          "metadata": {}
        },
        {
          "output_type": "display_data",
          "data": {
            "text/plain": [
              "vocab.txt:   0%|          | 0.00/232k [00:00<?, ?B/s]"
            ],
            "application/vnd.jupyter.widget-view+json": {
              "version_major": 2,
              "version_minor": 0,
              "model_id": "745194ce6e744fd9a8cd81ae20bf84af"
            }
          },
          "metadata": {}
        },
        {
          "output_type": "stream",
          "name": "stdout",
          "text": [
            "[{'label': 'POSITIVE', 'score': 0.8245054483413696}]\n"
          ]
        }
      ],
      "source": [
        "from transformers import pipeline\n",
        "\n",
        "def sentiment_analysis(text):\n",
        "    # Hugging Face 파이프라인 사용\n",
        "    classifier = pipeline('sentiment-analysis')\n",
        "    results = classifier(text)\n",
        "    return results\n",
        "\n",
        "# (과제) 문장 넣기\n",
        "example_review = \" 응용통계학과 21학번 장윤영입니다. \"\n",
        "print(sentiment_analysis(example_review))\n"
      ]
    }
  ],
  "metadata": {
    "colab": {
      "provenance": []
    },
    "kernelspec": {
      "display_name": "Python 3",
      "language": "python",
      "name": "python3"
    },
    "language_info": {
      "codemirror_mode": {
        "name": "ipython",
        "version": 3
      },
      "file_extension": ".py",
      "mimetype": "text/x-python",
      "name": "python",
      "nbconvert_exporter": "python",
      "pygments_lexer": "ipython3",
      "version": "3.12.2"
    },
    "widgets": {
      "application/vnd.jupyter.widget-state+json": {
        "b17a783d9ee5481291ad5fbcaab90c81": {
          "model_module": "@jupyter-widgets/controls",
          "model_name": "HBoxModel",
          "model_module_version": "1.5.0",
          "state": {
            "_dom_classes": [],
            "_model_module": "@jupyter-widgets/controls",
            "_model_module_version": "1.5.0",
            "_model_name": "HBoxModel",
            "_view_count": null,
            "_view_module": "@jupyter-widgets/controls",
            "_view_module_version": "1.5.0",
            "_view_name": "HBoxView",
            "box_style": "",
            "children": [
              "IPY_MODEL_bc089876c655491f932dd5eca0282348",
              "IPY_MODEL_8b9fad6e7eb34d9e9a97d7f31ae4a442",
              "IPY_MODEL_f0bfc6f39dfb43e6a228506c4de6644e"
            ],
            "layout": "IPY_MODEL_b225bcfb5a0246228133dff1aff0da40"
          }
        },
        "bc089876c655491f932dd5eca0282348": {
          "model_module": "@jupyter-widgets/controls",
          "model_name": "HTMLModel",
          "model_module_version": "1.5.0",
          "state": {
            "_dom_classes": [],
            "_model_module": "@jupyter-widgets/controls",
            "_model_module_version": "1.5.0",
            "_model_name": "HTMLModel",
            "_view_count": null,
            "_view_module": "@jupyter-widgets/controls",
            "_view_module_version": "1.5.0",
            "_view_name": "HTMLView",
            "description": "",
            "description_tooltip": null,
            "layout": "IPY_MODEL_5d2a463dc3d149ed8a078b9e95f02a79",
            "placeholder": "​",
            "style": "IPY_MODEL_5410aa1d621b48daa854614c8aa5274f",
            "value": "config.json: 100%"
          }
        },
        "8b9fad6e7eb34d9e9a97d7f31ae4a442": {
          "model_module": "@jupyter-widgets/controls",
          "model_name": "FloatProgressModel",
          "model_module_version": "1.5.0",
          "state": {
            "_dom_classes": [],
            "_model_module": "@jupyter-widgets/controls",
            "_model_module_version": "1.5.0",
            "_model_name": "FloatProgressModel",
            "_view_count": null,
            "_view_module": "@jupyter-widgets/controls",
            "_view_module_version": "1.5.0",
            "_view_name": "ProgressView",
            "bar_style": "success",
            "description": "",
            "description_tooltip": null,
            "layout": "IPY_MODEL_1493c7a051f64e07ae9ae92f672a958c",
            "max": 629,
            "min": 0,
            "orientation": "horizontal",
            "style": "IPY_MODEL_ec2dde43cac44f7c8652de1e083a1666",
            "value": 629
          }
        },
        "f0bfc6f39dfb43e6a228506c4de6644e": {
          "model_module": "@jupyter-widgets/controls",
          "model_name": "HTMLModel",
          "model_module_version": "1.5.0",
          "state": {
            "_dom_classes": [],
            "_model_module": "@jupyter-widgets/controls",
            "_model_module_version": "1.5.0",
            "_model_name": "HTMLModel",
            "_view_count": null,
            "_view_module": "@jupyter-widgets/controls",
            "_view_module_version": "1.5.0",
            "_view_name": "HTMLView",
            "description": "",
            "description_tooltip": null,
            "layout": "IPY_MODEL_4a71fc0a17994cc6a40f84db57d29dd2",
            "placeholder": "​",
            "style": "IPY_MODEL_5a0194c34f3f4b4b895e2b142cb35ab0",
            "value": " 629/629 [00:00&lt;00:00, 35.8kB/s]"
          }
        },
        "b225bcfb5a0246228133dff1aff0da40": {
          "model_module": "@jupyter-widgets/base",
          "model_name": "LayoutModel",
          "model_module_version": "1.2.0",
          "state": {
            "_model_module": "@jupyter-widgets/base",
            "_model_module_version": "1.2.0",
            "_model_name": "LayoutModel",
            "_view_count": null,
            "_view_module": "@jupyter-widgets/base",
            "_view_module_version": "1.2.0",
            "_view_name": "LayoutView",
            "align_content": null,
            "align_items": null,
            "align_self": null,
            "border": null,
            "bottom": null,
            "display": null,
            "flex": null,
            "flex_flow": null,
            "grid_area": null,
            "grid_auto_columns": null,
            "grid_auto_flow": null,
            "grid_auto_rows": null,
            "grid_column": null,
            "grid_gap": null,
            "grid_row": null,
            "grid_template_areas": null,
            "grid_template_columns": null,
            "grid_template_rows": null,
            "height": null,
            "justify_content": null,
            "justify_items": null,
            "left": null,
            "margin": null,
            "max_height": null,
            "max_width": null,
            "min_height": null,
            "min_width": null,
            "object_fit": null,
            "object_position": null,
            "order": null,
            "overflow": null,
            "overflow_x": null,
            "overflow_y": null,
            "padding": null,
            "right": null,
            "top": null,
            "visibility": null,
            "width": null
          }
        },
        "5d2a463dc3d149ed8a078b9e95f02a79": {
          "model_module": "@jupyter-widgets/base",
          "model_name": "LayoutModel",
          "model_module_version": "1.2.0",
          "state": {
            "_model_module": "@jupyter-widgets/base",
            "_model_module_version": "1.2.0",
            "_model_name": "LayoutModel",
            "_view_count": null,
            "_view_module": "@jupyter-widgets/base",
            "_view_module_version": "1.2.0",
            "_view_name": "LayoutView",
            "align_content": null,
            "align_items": null,
            "align_self": null,
            "border": null,
            "bottom": null,
            "display": null,
            "flex": null,
            "flex_flow": null,
            "grid_area": null,
            "grid_auto_columns": null,
            "grid_auto_flow": null,
            "grid_auto_rows": null,
            "grid_column": null,
            "grid_gap": null,
            "grid_row": null,
            "grid_template_areas": null,
            "grid_template_columns": null,
            "grid_template_rows": null,
            "height": null,
            "justify_content": null,
            "justify_items": null,
            "left": null,
            "margin": null,
            "max_height": null,
            "max_width": null,
            "min_height": null,
            "min_width": null,
            "object_fit": null,
            "object_position": null,
            "order": null,
            "overflow": null,
            "overflow_x": null,
            "overflow_y": null,
            "padding": null,
            "right": null,
            "top": null,
            "visibility": null,
            "width": null
          }
        },
        "5410aa1d621b48daa854614c8aa5274f": {
          "model_module": "@jupyter-widgets/controls",
          "model_name": "DescriptionStyleModel",
          "model_module_version": "1.5.0",
          "state": {
            "_model_module": "@jupyter-widgets/controls",
            "_model_module_version": "1.5.0",
            "_model_name": "DescriptionStyleModel",
            "_view_count": null,
            "_view_module": "@jupyter-widgets/base",
            "_view_module_version": "1.2.0",
            "_view_name": "StyleView",
            "description_width": ""
          }
        },
        "1493c7a051f64e07ae9ae92f672a958c": {
          "model_module": "@jupyter-widgets/base",
          "model_name": "LayoutModel",
          "model_module_version": "1.2.0",
          "state": {
            "_model_module": "@jupyter-widgets/base",
            "_model_module_version": "1.2.0",
            "_model_name": "LayoutModel",
            "_view_count": null,
            "_view_module": "@jupyter-widgets/base",
            "_view_module_version": "1.2.0",
            "_view_name": "LayoutView",
            "align_content": null,
            "align_items": null,
            "align_self": null,
            "border": null,
            "bottom": null,
            "display": null,
            "flex": null,
            "flex_flow": null,
            "grid_area": null,
            "grid_auto_columns": null,
            "grid_auto_flow": null,
            "grid_auto_rows": null,
            "grid_column": null,
            "grid_gap": null,
            "grid_row": null,
            "grid_template_areas": null,
            "grid_template_columns": null,
            "grid_template_rows": null,
            "height": null,
            "justify_content": null,
            "justify_items": null,
            "left": null,
            "margin": null,
            "max_height": null,
            "max_width": null,
            "min_height": null,
            "min_width": null,
            "object_fit": null,
            "object_position": null,
            "order": null,
            "overflow": null,
            "overflow_x": null,
            "overflow_y": null,
            "padding": null,
            "right": null,
            "top": null,
            "visibility": null,
            "width": null
          }
        },
        "ec2dde43cac44f7c8652de1e083a1666": {
          "model_module": "@jupyter-widgets/controls",
          "model_name": "ProgressStyleModel",
          "model_module_version": "1.5.0",
          "state": {
            "_model_module": "@jupyter-widgets/controls",
            "_model_module_version": "1.5.0",
            "_model_name": "ProgressStyleModel",
            "_view_count": null,
            "_view_module": "@jupyter-widgets/base",
            "_view_module_version": "1.2.0",
            "_view_name": "StyleView",
            "bar_color": null,
            "description_width": ""
          }
        },
        "4a71fc0a17994cc6a40f84db57d29dd2": {
          "model_module": "@jupyter-widgets/base",
          "model_name": "LayoutModel",
          "model_module_version": "1.2.0",
          "state": {
            "_model_module": "@jupyter-widgets/base",
            "_model_module_version": "1.2.0",
            "_model_name": "LayoutModel",
            "_view_count": null,
            "_view_module": "@jupyter-widgets/base",
            "_view_module_version": "1.2.0",
            "_view_name": "LayoutView",
            "align_content": null,
            "align_items": null,
            "align_self": null,
            "border": null,
            "bottom": null,
            "display": null,
            "flex": null,
            "flex_flow": null,
            "grid_area": null,
            "grid_auto_columns": null,
            "grid_auto_flow": null,
            "grid_auto_rows": null,
            "grid_column": null,
            "grid_gap": null,
            "grid_row": null,
            "grid_template_areas": null,
            "grid_template_columns": null,
            "grid_template_rows": null,
            "height": null,
            "justify_content": null,
            "justify_items": null,
            "left": null,
            "margin": null,
            "max_height": null,
            "max_width": null,
            "min_height": null,
            "min_width": null,
            "object_fit": null,
            "object_position": null,
            "order": null,
            "overflow": null,
            "overflow_x": null,
            "overflow_y": null,
            "padding": null,
            "right": null,
            "top": null,
            "visibility": null,
            "width": null
          }
        },
        "5a0194c34f3f4b4b895e2b142cb35ab0": {
          "model_module": "@jupyter-widgets/controls",
          "model_name": "DescriptionStyleModel",
          "model_module_version": "1.5.0",
          "state": {
            "_model_module": "@jupyter-widgets/controls",
            "_model_module_version": "1.5.0",
            "_model_name": "DescriptionStyleModel",
            "_view_count": null,
            "_view_module": "@jupyter-widgets/base",
            "_view_module_version": "1.2.0",
            "_view_name": "StyleView",
            "description_width": ""
          }
        },
        "c1ddd9582f6549d686f124fbdaf4aff5": {
          "model_module": "@jupyter-widgets/controls",
          "model_name": "HBoxModel",
          "model_module_version": "1.5.0",
          "state": {
            "_dom_classes": [],
            "_model_module": "@jupyter-widgets/controls",
            "_model_module_version": "1.5.0",
            "_model_name": "HBoxModel",
            "_view_count": null,
            "_view_module": "@jupyter-widgets/controls",
            "_view_module_version": "1.5.0",
            "_view_name": "HBoxView",
            "box_style": "",
            "children": [
              "IPY_MODEL_cbd4179e6a9c44c484ef53158f2f4f85",
              "IPY_MODEL_34030b5bddb14d1da8124c3bd6421a5b",
              "IPY_MODEL_52ec3b14ba5b4e96aff8153a69a32ccf"
            ],
            "layout": "IPY_MODEL_ee41f6152988422bacbe55163b797e2b"
          }
        },
        "cbd4179e6a9c44c484ef53158f2f4f85": {
          "model_module": "@jupyter-widgets/controls",
          "model_name": "HTMLModel",
          "model_module_version": "1.5.0",
          "state": {
            "_dom_classes": [],
            "_model_module": "@jupyter-widgets/controls",
            "_model_module_version": "1.5.0",
            "_model_name": "HTMLModel",
            "_view_count": null,
            "_view_module": "@jupyter-widgets/controls",
            "_view_module_version": "1.5.0",
            "_view_name": "HTMLView",
            "description": "",
            "description_tooltip": null,
            "layout": "IPY_MODEL_3661619222c24aea9284ee563694fcf6",
            "placeholder": "​",
            "style": "IPY_MODEL_404227ae6b854493b164b9810acba4cf",
            "value": "model.safetensors: 100%"
          }
        },
        "34030b5bddb14d1da8124c3bd6421a5b": {
          "model_module": "@jupyter-widgets/controls",
          "model_name": "FloatProgressModel",
          "model_module_version": "1.5.0",
          "state": {
            "_dom_classes": [],
            "_model_module": "@jupyter-widgets/controls",
            "_model_module_version": "1.5.0",
            "_model_name": "FloatProgressModel",
            "_view_count": null,
            "_view_module": "@jupyter-widgets/controls",
            "_view_module_version": "1.5.0",
            "_view_name": "ProgressView",
            "bar_style": "success",
            "description": "",
            "description_tooltip": null,
            "layout": "IPY_MODEL_fc6d4dbe0cf44d6b98e2cfa725bf02bb",
            "max": 267832558,
            "min": 0,
            "orientation": "horizontal",
            "style": "IPY_MODEL_8480994f3af747f4a5e4942c3aa6ce73",
            "value": 267832558
          }
        },
        "52ec3b14ba5b4e96aff8153a69a32ccf": {
          "model_module": "@jupyter-widgets/controls",
          "model_name": "HTMLModel",
          "model_module_version": "1.5.0",
          "state": {
            "_dom_classes": [],
            "_model_module": "@jupyter-widgets/controls",
            "_model_module_version": "1.5.0",
            "_model_name": "HTMLModel",
            "_view_count": null,
            "_view_module": "@jupyter-widgets/controls",
            "_view_module_version": "1.5.0",
            "_view_name": "HTMLView",
            "description": "",
            "description_tooltip": null,
            "layout": "IPY_MODEL_cbf78149ba6f48009886f93e89500e33",
            "placeholder": "​",
            "style": "IPY_MODEL_a905357ba58d40f4ac4aa2b553b01e14",
            "value": " 268M/268M [00:04&lt;00:00, 63.0MB/s]"
          }
        },
        "ee41f6152988422bacbe55163b797e2b": {
          "model_module": "@jupyter-widgets/base",
          "model_name": "LayoutModel",
          "model_module_version": "1.2.0",
          "state": {
            "_model_module": "@jupyter-widgets/base",
            "_model_module_version": "1.2.0",
            "_model_name": "LayoutModel",
            "_view_count": null,
            "_view_module": "@jupyter-widgets/base",
            "_view_module_version": "1.2.0",
            "_view_name": "LayoutView",
            "align_content": null,
            "align_items": null,
            "align_self": null,
            "border": null,
            "bottom": null,
            "display": null,
            "flex": null,
            "flex_flow": null,
            "grid_area": null,
            "grid_auto_columns": null,
            "grid_auto_flow": null,
            "grid_auto_rows": null,
            "grid_column": null,
            "grid_gap": null,
            "grid_row": null,
            "grid_template_areas": null,
            "grid_template_columns": null,
            "grid_template_rows": null,
            "height": null,
            "justify_content": null,
            "justify_items": null,
            "left": null,
            "margin": null,
            "max_height": null,
            "max_width": null,
            "min_height": null,
            "min_width": null,
            "object_fit": null,
            "object_position": null,
            "order": null,
            "overflow": null,
            "overflow_x": null,
            "overflow_y": null,
            "padding": null,
            "right": null,
            "top": null,
            "visibility": null,
            "width": null
          }
        },
        "3661619222c24aea9284ee563694fcf6": {
          "model_module": "@jupyter-widgets/base",
          "model_name": "LayoutModel",
          "model_module_version": "1.2.0",
          "state": {
            "_model_module": "@jupyter-widgets/base",
            "_model_module_version": "1.2.0",
            "_model_name": "LayoutModel",
            "_view_count": null,
            "_view_module": "@jupyter-widgets/base",
            "_view_module_version": "1.2.0",
            "_view_name": "LayoutView",
            "align_content": null,
            "align_items": null,
            "align_self": null,
            "border": null,
            "bottom": null,
            "display": null,
            "flex": null,
            "flex_flow": null,
            "grid_area": null,
            "grid_auto_columns": null,
            "grid_auto_flow": null,
            "grid_auto_rows": null,
            "grid_column": null,
            "grid_gap": null,
            "grid_row": null,
            "grid_template_areas": null,
            "grid_template_columns": null,
            "grid_template_rows": null,
            "height": null,
            "justify_content": null,
            "justify_items": null,
            "left": null,
            "margin": null,
            "max_height": null,
            "max_width": null,
            "min_height": null,
            "min_width": null,
            "object_fit": null,
            "object_position": null,
            "order": null,
            "overflow": null,
            "overflow_x": null,
            "overflow_y": null,
            "padding": null,
            "right": null,
            "top": null,
            "visibility": null,
            "width": null
          }
        },
        "404227ae6b854493b164b9810acba4cf": {
          "model_module": "@jupyter-widgets/controls",
          "model_name": "DescriptionStyleModel",
          "model_module_version": "1.5.0",
          "state": {
            "_model_module": "@jupyter-widgets/controls",
            "_model_module_version": "1.5.0",
            "_model_name": "DescriptionStyleModel",
            "_view_count": null,
            "_view_module": "@jupyter-widgets/base",
            "_view_module_version": "1.2.0",
            "_view_name": "StyleView",
            "description_width": ""
          }
        },
        "fc6d4dbe0cf44d6b98e2cfa725bf02bb": {
          "model_module": "@jupyter-widgets/base",
          "model_name": "LayoutModel",
          "model_module_version": "1.2.0",
          "state": {
            "_model_module": "@jupyter-widgets/base",
            "_model_module_version": "1.2.0",
            "_model_name": "LayoutModel",
            "_view_count": null,
            "_view_module": "@jupyter-widgets/base",
            "_view_module_version": "1.2.0",
            "_view_name": "LayoutView",
            "align_content": null,
            "align_items": null,
            "align_self": null,
            "border": null,
            "bottom": null,
            "display": null,
            "flex": null,
            "flex_flow": null,
            "grid_area": null,
            "grid_auto_columns": null,
            "grid_auto_flow": null,
            "grid_auto_rows": null,
            "grid_column": null,
            "grid_gap": null,
            "grid_row": null,
            "grid_template_areas": null,
            "grid_template_columns": null,
            "grid_template_rows": null,
            "height": null,
            "justify_content": null,
            "justify_items": null,
            "left": null,
            "margin": null,
            "max_height": null,
            "max_width": null,
            "min_height": null,
            "min_width": null,
            "object_fit": null,
            "object_position": null,
            "order": null,
            "overflow": null,
            "overflow_x": null,
            "overflow_y": null,
            "padding": null,
            "right": null,
            "top": null,
            "visibility": null,
            "width": null
          }
        },
        "8480994f3af747f4a5e4942c3aa6ce73": {
          "model_module": "@jupyter-widgets/controls",
          "model_name": "ProgressStyleModel",
          "model_module_version": "1.5.0",
          "state": {
            "_model_module": "@jupyter-widgets/controls",
            "_model_module_version": "1.5.0",
            "_model_name": "ProgressStyleModel",
            "_view_count": null,
            "_view_module": "@jupyter-widgets/base",
            "_view_module_version": "1.2.0",
            "_view_name": "StyleView",
            "bar_color": null,
            "description_width": ""
          }
        },
        "cbf78149ba6f48009886f93e89500e33": {
          "model_module": "@jupyter-widgets/base",
          "model_name": "LayoutModel",
          "model_module_version": "1.2.0",
          "state": {
            "_model_module": "@jupyter-widgets/base",
            "_model_module_version": "1.2.0",
            "_model_name": "LayoutModel",
            "_view_count": null,
            "_view_module": "@jupyter-widgets/base",
            "_view_module_version": "1.2.0",
            "_view_name": "LayoutView",
            "align_content": null,
            "align_items": null,
            "align_self": null,
            "border": null,
            "bottom": null,
            "display": null,
            "flex": null,
            "flex_flow": null,
            "grid_area": null,
            "grid_auto_columns": null,
            "grid_auto_flow": null,
            "grid_auto_rows": null,
            "grid_column": null,
            "grid_gap": null,
            "grid_row": null,
            "grid_template_areas": null,
            "grid_template_columns": null,
            "grid_template_rows": null,
            "height": null,
            "justify_content": null,
            "justify_items": null,
            "left": null,
            "margin": null,
            "max_height": null,
            "max_width": null,
            "min_height": null,
            "min_width": null,
            "object_fit": null,
            "object_position": null,
            "order": null,
            "overflow": null,
            "overflow_x": null,
            "overflow_y": null,
            "padding": null,
            "right": null,
            "top": null,
            "visibility": null,
            "width": null
          }
        },
        "a905357ba58d40f4ac4aa2b553b01e14": {
          "model_module": "@jupyter-widgets/controls",
          "model_name": "DescriptionStyleModel",
          "model_module_version": "1.5.0",
          "state": {
            "_model_module": "@jupyter-widgets/controls",
            "_model_module_version": "1.5.0",
            "_model_name": "DescriptionStyleModel",
            "_view_count": null,
            "_view_module": "@jupyter-widgets/base",
            "_view_module_version": "1.2.0",
            "_view_name": "StyleView",
            "description_width": ""
          }
        },
        "f1b0ccd76d114f8696cb29b3d662fb67": {
          "model_module": "@jupyter-widgets/controls",
          "model_name": "HBoxModel",
          "model_module_version": "1.5.0",
          "state": {
            "_dom_classes": [],
            "_model_module": "@jupyter-widgets/controls",
            "_model_module_version": "1.5.0",
            "_model_name": "HBoxModel",
            "_view_count": null,
            "_view_module": "@jupyter-widgets/controls",
            "_view_module_version": "1.5.0",
            "_view_name": "HBoxView",
            "box_style": "",
            "children": [
              "IPY_MODEL_08d61a0778324422a8300990e7533099",
              "IPY_MODEL_adcfa92d440f4dcfbf479711ed4c72bb",
              "IPY_MODEL_56871c72500e49e0b374cfae26a05fc6"
            ],
            "layout": "IPY_MODEL_3cd9142fd4e146ceaec2071ce2813aff"
          }
        },
        "08d61a0778324422a8300990e7533099": {
          "model_module": "@jupyter-widgets/controls",
          "model_name": "HTMLModel",
          "model_module_version": "1.5.0",
          "state": {
            "_dom_classes": [],
            "_model_module": "@jupyter-widgets/controls",
            "_model_module_version": "1.5.0",
            "_model_name": "HTMLModel",
            "_view_count": null,
            "_view_module": "@jupyter-widgets/controls",
            "_view_module_version": "1.5.0",
            "_view_name": "HTMLView",
            "description": "",
            "description_tooltip": null,
            "layout": "IPY_MODEL_5b7da532de014aff8daae20266680b98",
            "placeholder": "​",
            "style": "IPY_MODEL_e5e91b659f8d4eb799e676083b9c4206",
            "value": "tokenizer_config.json: 100%"
          }
        },
        "adcfa92d440f4dcfbf479711ed4c72bb": {
          "model_module": "@jupyter-widgets/controls",
          "model_name": "FloatProgressModel",
          "model_module_version": "1.5.0",
          "state": {
            "_dom_classes": [],
            "_model_module": "@jupyter-widgets/controls",
            "_model_module_version": "1.5.0",
            "_model_name": "FloatProgressModel",
            "_view_count": null,
            "_view_module": "@jupyter-widgets/controls",
            "_view_module_version": "1.5.0",
            "_view_name": "ProgressView",
            "bar_style": "success",
            "description": "",
            "description_tooltip": null,
            "layout": "IPY_MODEL_d71fc2436e3d4f7c9684dbfcf71be50c",
            "max": 48,
            "min": 0,
            "orientation": "horizontal",
            "style": "IPY_MODEL_b9abbbf5f7f3416b8e97057b14c1269d",
            "value": 48
          }
        },
        "56871c72500e49e0b374cfae26a05fc6": {
          "model_module": "@jupyter-widgets/controls",
          "model_name": "HTMLModel",
          "model_module_version": "1.5.0",
          "state": {
            "_dom_classes": [],
            "_model_module": "@jupyter-widgets/controls",
            "_model_module_version": "1.5.0",
            "_model_name": "HTMLModel",
            "_view_count": null,
            "_view_module": "@jupyter-widgets/controls",
            "_view_module_version": "1.5.0",
            "_view_name": "HTMLView",
            "description": "",
            "description_tooltip": null,
            "layout": "IPY_MODEL_d98752f0e068426cbabaafafa9ad8911",
            "placeholder": "​",
            "style": "IPY_MODEL_2194277eb458485383dc097ffdda6f10",
            "value": " 48.0/48.0 [00:00&lt;00:00, 2.43kB/s]"
          }
        },
        "3cd9142fd4e146ceaec2071ce2813aff": {
          "model_module": "@jupyter-widgets/base",
          "model_name": "LayoutModel",
          "model_module_version": "1.2.0",
          "state": {
            "_model_module": "@jupyter-widgets/base",
            "_model_module_version": "1.2.0",
            "_model_name": "LayoutModel",
            "_view_count": null,
            "_view_module": "@jupyter-widgets/base",
            "_view_module_version": "1.2.0",
            "_view_name": "LayoutView",
            "align_content": null,
            "align_items": null,
            "align_self": null,
            "border": null,
            "bottom": null,
            "display": null,
            "flex": null,
            "flex_flow": null,
            "grid_area": null,
            "grid_auto_columns": null,
            "grid_auto_flow": null,
            "grid_auto_rows": null,
            "grid_column": null,
            "grid_gap": null,
            "grid_row": null,
            "grid_template_areas": null,
            "grid_template_columns": null,
            "grid_template_rows": null,
            "height": null,
            "justify_content": null,
            "justify_items": null,
            "left": null,
            "margin": null,
            "max_height": null,
            "max_width": null,
            "min_height": null,
            "min_width": null,
            "object_fit": null,
            "object_position": null,
            "order": null,
            "overflow": null,
            "overflow_x": null,
            "overflow_y": null,
            "padding": null,
            "right": null,
            "top": null,
            "visibility": null,
            "width": null
          }
        },
        "5b7da532de014aff8daae20266680b98": {
          "model_module": "@jupyter-widgets/base",
          "model_name": "LayoutModel",
          "model_module_version": "1.2.0",
          "state": {
            "_model_module": "@jupyter-widgets/base",
            "_model_module_version": "1.2.0",
            "_model_name": "LayoutModel",
            "_view_count": null,
            "_view_module": "@jupyter-widgets/base",
            "_view_module_version": "1.2.0",
            "_view_name": "LayoutView",
            "align_content": null,
            "align_items": null,
            "align_self": null,
            "border": null,
            "bottom": null,
            "display": null,
            "flex": null,
            "flex_flow": null,
            "grid_area": null,
            "grid_auto_columns": null,
            "grid_auto_flow": null,
            "grid_auto_rows": null,
            "grid_column": null,
            "grid_gap": null,
            "grid_row": null,
            "grid_template_areas": null,
            "grid_template_columns": null,
            "grid_template_rows": null,
            "height": null,
            "justify_content": null,
            "justify_items": null,
            "left": null,
            "margin": null,
            "max_height": null,
            "max_width": null,
            "min_height": null,
            "min_width": null,
            "object_fit": null,
            "object_position": null,
            "order": null,
            "overflow": null,
            "overflow_x": null,
            "overflow_y": null,
            "padding": null,
            "right": null,
            "top": null,
            "visibility": null,
            "width": null
          }
        },
        "e5e91b659f8d4eb799e676083b9c4206": {
          "model_module": "@jupyter-widgets/controls",
          "model_name": "DescriptionStyleModel",
          "model_module_version": "1.5.0",
          "state": {
            "_model_module": "@jupyter-widgets/controls",
            "_model_module_version": "1.5.0",
            "_model_name": "DescriptionStyleModel",
            "_view_count": null,
            "_view_module": "@jupyter-widgets/base",
            "_view_module_version": "1.2.0",
            "_view_name": "StyleView",
            "description_width": ""
          }
        },
        "d71fc2436e3d4f7c9684dbfcf71be50c": {
          "model_module": "@jupyter-widgets/base",
          "model_name": "LayoutModel",
          "model_module_version": "1.2.0",
          "state": {
            "_model_module": "@jupyter-widgets/base",
            "_model_module_version": "1.2.0",
            "_model_name": "LayoutModel",
            "_view_count": null,
            "_view_module": "@jupyter-widgets/base",
            "_view_module_version": "1.2.0",
            "_view_name": "LayoutView",
            "align_content": null,
            "align_items": null,
            "align_self": null,
            "border": null,
            "bottom": null,
            "display": null,
            "flex": null,
            "flex_flow": null,
            "grid_area": null,
            "grid_auto_columns": null,
            "grid_auto_flow": null,
            "grid_auto_rows": null,
            "grid_column": null,
            "grid_gap": null,
            "grid_row": null,
            "grid_template_areas": null,
            "grid_template_columns": null,
            "grid_template_rows": null,
            "height": null,
            "justify_content": null,
            "justify_items": null,
            "left": null,
            "margin": null,
            "max_height": null,
            "max_width": null,
            "min_height": null,
            "min_width": null,
            "object_fit": null,
            "object_position": null,
            "order": null,
            "overflow": null,
            "overflow_x": null,
            "overflow_y": null,
            "padding": null,
            "right": null,
            "top": null,
            "visibility": null,
            "width": null
          }
        },
        "b9abbbf5f7f3416b8e97057b14c1269d": {
          "model_module": "@jupyter-widgets/controls",
          "model_name": "ProgressStyleModel",
          "model_module_version": "1.5.0",
          "state": {
            "_model_module": "@jupyter-widgets/controls",
            "_model_module_version": "1.5.0",
            "_model_name": "ProgressStyleModel",
            "_view_count": null,
            "_view_module": "@jupyter-widgets/base",
            "_view_module_version": "1.2.0",
            "_view_name": "StyleView",
            "bar_color": null,
            "description_width": ""
          }
        },
        "d98752f0e068426cbabaafafa9ad8911": {
          "model_module": "@jupyter-widgets/base",
          "model_name": "LayoutModel",
          "model_module_version": "1.2.0",
          "state": {
            "_model_module": "@jupyter-widgets/base",
            "_model_module_version": "1.2.0",
            "_model_name": "LayoutModel",
            "_view_count": null,
            "_view_module": "@jupyter-widgets/base",
            "_view_module_version": "1.2.0",
            "_view_name": "LayoutView",
            "align_content": null,
            "align_items": null,
            "align_self": null,
            "border": null,
            "bottom": null,
            "display": null,
            "flex": null,
            "flex_flow": null,
            "grid_area": null,
            "grid_auto_columns": null,
            "grid_auto_flow": null,
            "grid_auto_rows": null,
            "grid_column": null,
            "grid_gap": null,
            "grid_row": null,
            "grid_template_areas": null,
            "grid_template_columns": null,
            "grid_template_rows": null,
            "height": null,
            "justify_content": null,
            "justify_items": null,
            "left": null,
            "margin": null,
            "max_height": null,
            "max_width": null,
            "min_height": null,
            "min_width": null,
            "object_fit": null,
            "object_position": null,
            "order": null,
            "overflow": null,
            "overflow_x": null,
            "overflow_y": null,
            "padding": null,
            "right": null,
            "top": null,
            "visibility": null,
            "width": null
          }
        },
        "2194277eb458485383dc097ffdda6f10": {
          "model_module": "@jupyter-widgets/controls",
          "model_name": "DescriptionStyleModel",
          "model_module_version": "1.5.0",
          "state": {
            "_model_module": "@jupyter-widgets/controls",
            "_model_module_version": "1.5.0",
            "_model_name": "DescriptionStyleModel",
            "_view_count": null,
            "_view_module": "@jupyter-widgets/base",
            "_view_module_version": "1.2.0",
            "_view_name": "StyleView",
            "description_width": ""
          }
        },
        "745194ce6e744fd9a8cd81ae20bf84af": {
          "model_module": "@jupyter-widgets/controls",
          "model_name": "HBoxModel",
          "model_module_version": "1.5.0",
          "state": {
            "_dom_classes": [],
            "_model_module": "@jupyter-widgets/controls",
            "_model_module_version": "1.5.0",
            "_model_name": "HBoxModel",
            "_view_count": null,
            "_view_module": "@jupyter-widgets/controls",
            "_view_module_version": "1.5.0",
            "_view_name": "HBoxView",
            "box_style": "",
            "children": [
              "IPY_MODEL_f0e0aa89380249e4a0ac8a85f8e00dec",
              "IPY_MODEL_661e6559b8424f10b782a706c82fbba2",
              "IPY_MODEL_246ee7c43e0f49b6a2ee5dc6d6cd4aaf"
            ],
            "layout": "IPY_MODEL_16fba099e9d54efa8c96014e04334729"
          }
        },
        "f0e0aa89380249e4a0ac8a85f8e00dec": {
          "model_module": "@jupyter-widgets/controls",
          "model_name": "HTMLModel",
          "model_module_version": "1.5.0",
          "state": {
            "_dom_classes": [],
            "_model_module": "@jupyter-widgets/controls",
            "_model_module_version": "1.5.0",
            "_model_name": "HTMLModel",
            "_view_count": null,
            "_view_module": "@jupyter-widgets/controls",
            "_view_module_version": "1.5.0",
            "_view_name": "HTMLView",
            "description": "",
            "description_tooltip": null,
            "layout": "IPY_MODEL_4554e05c5c0c4aa989b731ef5dfba5a2",
            "placeholder": "​",
            "style": "IPY_MODEL_b7548b2bc0d643c5b62800678a422c11",
            "value": "vocab.txt: 100%"
          }
        },
        "661e6559b8424f10b782a706c82fbba2": {
          "model_module": "@jupyter-widgets/controls",
          "model_name": "FloatProgressModel",
          "model_module_version": "1.5.0",
          "state": {
            "_dom_classes": [],
            "_model_module": "@jupyter-widgets/controls",
            "_model_module_version": "1.5.0",
            "_model_name": "FloatProgressModel",
            "_view_count": null,
            "_view_module": "@jupyter-widgets/controls",
            "_view_module_version": "1.5.0",
            "_view_name": "ProgressView",
            "bar_style": "success",
            "description": "",
            "description_tooltip": null,
            "layout": "IPY_MODEL_d4878fc7c4e042c9a74a52d0277d6454",
            "max": 231508,
            "min": 0,
            "orientation": "horizontal",
            "style": "IPY_MODEL_ee68203fdf7b4213b263a6e05884d9c3",
            "value": 231508
          }
        },
        "246ee7c43e0f49b6a2ee5dc6d6cd4aaf": {
          "model_module": "@jupyter-widgets/controls",
          "model_name": "HTMLModel",
          "model_module_version": "1.5.0",
          "state": {
            "_dom_classes": [],
            "_model_module": "@jupyter-widgets/controls",
            "_model_module_version": "1.5.0",
            "_model_name": "HTMLModel",
            "_view_count": null,
            "_view_module": "@jupyter-widgets/controls",
            "_view_module_version": "1.5.0",
            "_view_name": "HTMLView",
            "description": "",
            "description_tooltip": null,
            "layout": "IPY_MODEL_ccce8ca1d4154f6a817104d3ab6fc646",
            "placeholder": "​",
            "style": "IPY_MODEL_e6a5fc7d3a0d4044a902cf0d86e3235e",
            "value": " 232k/232k [00:00&lt;00:00, 586kB/s]"
          }
        },
        "16fba099e9d54efa8c96014e04334729": {
          "model_module": "@jupyter-widgets/base",
          "model_name": "LayoutModel",
          "model_module_version": "1.2.0",
          "state": {
            "_model_module": "@jupyter-widgets/base",
            "_model_module_version": "1.2.0",
            "_model_name": "LayoutModel",
            "_view_count": null,
            "_view_module": "@jupyter-widgets/base",
            "_view_module_version": "1.2.0",
            "_view_name": "LayoutView",
            "align_content": null,
            "align_items": null,
            "align_self": null,
            "border": null,
            "bottom": null,
            "display": null,
            "flex": null,
            "flex_flow": null,
            "grid_area": null,
            "grid_auto_columns": null,
            "grid_auto_flow": null,
            "grid_auto_rows": null,
            "grid_column": null,
            "grid_gap": null,
            "grid_row": null,
            "grid_template_areas": null,
            "grid_template_columns": null,
            "grid_template_rows": null,
            "height": null,
            "justify_content": null,
            "justify_items": null,
            "left": null,
            "margin": null,
            "max_height": null,
            "max_width": null,
            "min_height": null,
            "min_width": null,
            "object_fit": null,
            "object_position": null,
            "order": null,
            "overflow": null,
            "overflow_x": null,
            "overflow_y": null,
            "padding": null,
            "right": null,
            "top": null,
            "visibility": null,
            "width": null
          }
        },
        "4554e05c5c0c4aa989b731ef5dfba5a2": {
          "model_module": "@jupyter-widgets/base",
          "model_name": "LayoutModel",
          "model_module_version": "1.2.0",
          "state": {
            "_model_module": "@jupyter-widgets/base",
            "_model_module_version": "1.2.0",
            "_model_name": "LayoutModel",
            "_view_count": null,
            "_view_module": "@jupyter-widgets/base",
            "_view_module_version": "1.2.0",
            "_view_name": "LayoutView",
            "align_content": null,
            "align_items": null,
            "align_self": null,
            "border": null,
            "bottom": null,
            "display": null,
            "flex": null,
            "flex_flow": null,
            "grid_area": null,
            "grid_auto_columns": null,
            "grid_auto_flow": null,
            "grid_auto_rows": null,
            "grid_column": null,
            "grid_gap": null,
            "grid_row": null,
            "grid_template_areas": null,
            "grid_template_columns": null,
            "grid_template_rows": null,
            "height": null,
            "justify_content": null,
            "justify_items": null,
            "left": null,
            "margin": null,
            "max_height": null,
            "max_width": null,
            "min_height": null,
            "min_width": null,
            "object_fit": null,
            "object_position": null,
            "order": null,
            "overflow": null,
            "overflow_x": null,
            "overflow_y": null,
            "padding": null,
            "right": null,
            "top": null,
            "visibility": null,
            "width": null
          }
        },
        "b7548b2bc0d643c5b62800678a422c11": {
          "model_module": "@jupyter-widgets/controls",
          "model_name": "DescriptionStyleModel",
          "model_module_version": "1.5.0",
          "state": {
            "_model_module": "@jupyter-widgets/controls",
            "_model_module_version": "1.5.0",
            "_model_name": "DescriptionStyleModel",
            "_view_count": null,
            "_view_module": "@jupyter-widgets/base",
            "_view_module_version": "1.2.0",
            "_view_name": "StyleView",
            "description_width": ""
          }
        },
        "d4878fc7c4e042c9a74a52d0277d6454": {
          "model_module": "@jupyter-widgets/base",
          "model_name": "LayoutModel",
          "model_module_version": "1.2.0",
          "state": {
            "_model_module": "@jupyter-widgets/base",
            "_model_module_version": "1.2.0",
            "_model_name": "LayoutModel",
            "_view_count": null,
            "_view_module": "@jupyter-widgets/base",
            "_view_module_version": "1.2.0",
            "_view_name": "LayoutView",
            "align_content": null,
            "align_items": null,
            "align_self": null,
            "border": null,
            "bottom": null,
            "display": null,
            "flex": null,
            "flex_flow": null,
            "grid_area": null,
            "grid_auto_columns": null,
            "grid_auto_flow": null,
            "grid_auto_rows": null,
            "grid_column": null,
            "grid_gap": null,
            "grid_row": null,
            "grid_template_areas": null,
            "grid_template_columns": null,
            "grid_template_rows": null,
            "height": null,
            "justify_content": null,
            "justify_items": null,
            "left": null,
            "margin": null,
            "max_height": null,
            "max_width": null,
            "min_height": null,
            "min_width": null,
            "object_fit": null,
            "object_position": null,
            "order": null,
            "overflow": null,
            "overflow_x": null,
            "overflow_y": null,
            "padding": null,
            "right": null,
            "top": null,
            "visibility": null,
            "width": null
          }
        },
        "ee68203fdf7b4213b263a6e05884d9c3": {
          "model_module": "@jupyter-widgets/controls",
          "model_name": "ProgressStyleModel",
          "model_module_version": "1.5.0",
          "state": {
            "_model_module": "@jupyter-widgets/controls",
            "_model_module_version": "1.5.0",
            "_model_name": "ProgressStyleModel",
            "_view_count": null,
            "_view_module": "@jupyter-widgets/base",
            "_view_module_version": "1.2.0",
            "_view_name": "StyleView",
            "bar_color": null,
            "description_width": ""
          }
        },
        "ccce8ca1d4154f6a817104d3ab6fc646": {
          "model_module": "@jupyter-widgets/base",
          "model_name": "LayoutModel",
          "model_module_version": "1.2.0",
          "state": {
            "_model_module": "@jupyter-widgets/base",
            "_model_module_version": "1.2.0",
            "_model_name": "LayoutModel",
            "_view_count": null,
            "_view_module": "@jupyter-widgets/base",
            "_view_module_version": "1.2.0",
            "_view_name": "LayoutView",
            "align_content": null,
            "align_items": null,
            "align_self": null,
            "border": null,
            "bottom": null,
            "display": null,
            "flex": null,
            "flex_flow": null,
            "grid_area": null,
            "grid_auto_columns": null,
            "grid_auto_flow": null,
            "grid_auto_rows": null,
            "grid_column": null,
            "grid_gap": null,
            "grid_row": null,
            "grid_template_areas": null,
            "grid_template_columns": null,
            "grid_template_rows": null,
            "height": null,
            "justify_content": null,
            "justify_items": null,
            "left": null,
            "margin": null,
            "max_height": null,
            "max_width": null,
            "min_height": null,
            "min_width": null,
            "object_fit": null,
            "object_position": null,
            "order": null,
            "overflow": null,
            "overflow_x": null,
            "overflow_y": null,
            "padding": null,
            "right": null,
            "top": null,
            "visibility": null,
            "width": null
          }
        },
        "e6a5fc7d3a0d4044a902cf0d86e3235e": {
          "model_module": "@jupyter-widgets/controls",
          "model_name": "DescriptionStyleModel",
          "model_module_version": "1.5.0",
          "state": {
            "_model_module": "@jupyter-widgets/controls",
            "_model_module_version": "1.5.0",
            "_model_name": "DescriptionStyleModel",
            "_view_count": null,
            "_view_module": "@jupyter-widgets/base",
            "_view_module_version": "1.2.0",
            "_view_name": "StyleView",
            "description_width": ""
          }
        }
      }
    }
  },
  "nbformat": 4,
  "nbformat_minor": 0
}